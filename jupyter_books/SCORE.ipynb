{
 "cells": [
  {
   "cell_type": "markdown",
   "id": "7d4b8309",
   "metadata": {},
   "source": [
    "# Importar Librerias"
   ]
  },
  {
   "cell_type": "code",
   "execution_count": 1,
   "id": "f4f15c28",
   "metadata": {},
   "outputs": [],
   "source": [
    "import pandas as pd\n",
    "from sqlalchemy import create_engine\n",
    "import os\n",
    "import mysql.connector\n",
    "from dotenv import load_dotenv\n",
    "from sklearn.preprocessing import StandardScaler\n",
    "from sklearn.ensemble import GradientBoostingRegressor\n",
    "from sklearn.model_selection import train_test_split\n",
    "from sklearn.metrics import mean_absolute_error\n",
    "import numpy as np"
   ]
  },
  {
   "cell_type": "markdown",
   "id": "a6f3bbcc",
   "metadata": {},
   "source": [
    "# Database connection parameters"
   ]
  },
  {
   "cell_type": "code",
   "execution_count": 2,
   "id": "d590ea4a",
   "metadata": {},
   "outputs": [],
   "source": [
    "conn = mysql.connector.connect(\n",
    "    host='db-vitrinnea-production.cefwhitrz8zi.us-east-1.rds.amazonaws.com',\n",
    "    user='admin',\n",
    "    password='DHrguR7e46xlj',\n",
    "    database='production_db'\n",
    ")"
   ]
  },
  {
   "cell_type": "markdown",
   "id": "6163e275",
   "metadata": {},
   "source": [
    "# Load data from tables"
   ]
  },
  {
   "cell_type": "code",
   "execution_count": 3,
   "id": "71e3d6fb",
   "metadata": {},
   "outputs": [
    {
     "name": "stdout",
     "output_type": "stream",
     "text": [
      "Users DataFrame:\n",
      "   id  score\n",
      "0   1    5.0\n",
      "1  28    5.0\n",
      "2  29    5.0\n",
      "3  30    5.0\n",
      "4  31    5.0\n"
     ]
    }
   ],
   "source": [
    "query_user = \"\"\"\n",
    "SELECT id, score FROM users;\n",
    "\"\"\"\n",
    "users = pd.read_sql(query_user, conn)\n",
    "print(\"Users DataFrame:\")\n",
    "print(users.head())"
   ]
  },
  {
   "cell_type": "code",
   "execution_count": 4,
   "id": "82f88042",
   "metadata": {},
   "outputs": [
    {
     "name": "stdout",
     "output_type": "stream",
     "text": [
      "   order_id  user_id  order_state_id  payment_id comment  total_orden\n",
      "0        13     28.0               3           6    None          0.0\n",
      "1        27     54.0               3           6    None          0.0\n",
      "2        50     95.0               3           1    None          0.0\n",
      "3        58     96.0               3           8    None          0.0\n",
      "4        59    108.0               3           8    None          0.0\n"
     ]
    }
   ],
   "source": [
    "query_orders = \"\"\"\n",
    "    SELECT \n",
    "        o.id AS order_id, \n",
    "        om.user_id, \n",
    "        o.order_state_id, \n",
    "        om.payment_id,\n",
    "        o.comment,\n",
    "        o.total_orden\n",
    "    FROM \n",
    "        orders o\n",
    "    INNER JOIN \n",
    "        order_main om ON o.main_order_id = om.id;\n",
    "\"\"\"\n",
    "orders = pd.read_sql(query_orders, conn)\n",
    "print(orders.head())"
   ]
  },
  {
   "cell_type": "code",
   "execution_count": 5,
   "id": "59f05455",
   "metadata": {},
   "outputs": [
    {
     "name": "stdout",
     "output_type": "stream",
     "text": [
      "Carts DataFrame:\n",
      "   user_id          created_at\n",
      "0     7120 2022-08-18 12:10:53\n",
      "1     7120 2022-08-18 12:11:13\n",
      "2     7120 2022-08-18 12:11:48\n",
      "3    11447 2022-08-25 18:21:14\n",
      "4    11394 2022-08-25 21:33:11\n"
     ]
    }
   ],
   "source": [
    "query_cart = \"\"\"\n",
    "SELECT user_id, created_at FROM carts;\n",
    "\"\"\"\n",
    "carts = pd.read_sql(query_cart, conn)\n",
    "print(\"Carts DataFrame:\")\n",
    "print(carts.head())"
   ]
  },
  {
   "cell_type": "markdown",
   "id": "36297476",
   "metadata": {},
   "source": [
    "# Cargar datos de productos comprados"
   ]
  },
  {
   "cell_type": "code",
   "execution_count": 6,
   "id": "40dc9512",
   "metadata": {},
   "outputs": [
    {
     "name": "stdout",
     "output_type": "stream",
     "text": [
      "Order Items DataFrame:\n",
      "   user_id  product_count\n",
      "0     28.0             32\n",
      "1     54.0              1\n",
      "2     95.0              1\n",
      "3     96.0              2\n",
      "4    108.0              1\n"
     ]
    }
   ],
   "source": [
    "query_order_items = \"\"\"\n",
    "SELECT \n",
    "    om.user_id, \n",
    "    COUNT(oi.product_id) AS product_count\n",
    "FROM \n",
    "    det_order oi\n",
    "INNER JOIN \n",
    "    orders o ON oi.order_id = o.id\n",
    "INNER JOIN \n",
    "    order_main om ON o.main_order_id = om.id\n",
    "GROUP BY \n",
    "    om.user_id;\n",
    "\"\"\"\n",
    "order_items = pd.read_sql(query_order_items, conn)\n",
    "print(\"Order Items DataFrame:\")\n",
    "print(order_items.head())\n",
    "\n",
    "conn.close()"
   ]
  },
  {
   "cell_type": "markdown",
   "id": "e36c45ea",
   "metadata": {},
   "source": [
    "# Data preparation"
   ]
  },
  {
   "cell_type": "code",
   "execution_count": 7,
   "id": "aa904c74",
   "metadata": {},
   "outputs": [],
   "source": [
    "orders['is_canceled'] = orders['order_state_id'].apply(lambda x: 1 if x == 4 else 0)\n",
    "\n",
    "customer_related_reasons = [\n",
    "    'CLIENTE_SOLICITO_ANTES_DE_GENERAR_GUIA',\n",
    "    'CLIENTE_SOLICITO_DESPUES_DE_GENERAR_GUIA_NO_RECOLECTADO',\n",
    "    'CLIENTE_SOLICITO_DESPUES_DE_GENERAR_GUIA_RECOLECTADO',\n",
    "    'CLIENTE_NO_ACEPTO_PRODUCTO',\n",
    "    'IMPOSIBLE_LOCALIZAR_CLIENTE',\n",
    "    'FRAUDE_DETECTADO_CLIENTE',\n",
    "    'CLIENTE_SE_COMUNICA_CANCELAR_ENVIO'\n",
    "]"
   ]
  },
  {
   "cell_type": "markdown",
   "id": "da35d5d0",
   "metadata": {},
   "source": [
    "# Flagging orders with customer-related cancellation reasons"
   ]
  },
  {
   "cell_type": "code",
   "execution_count": 8,
   "id": "ba76ab9d",
   "metadata": {},
   "outputs": [],
   "source": [
    "orders['customer_related_cancellation'] = orders.apply(\n",
    "    lambda row: 1 if row['is_canceled'] == 1 and row['comment'] in customer_related_reasons else 0, \n",
    "    axis=1\n",
    ")"
   ]
  },
  {
   "cell_type": "markdown",
   "id": "d7f2007f",
   "metadata": {},
   "source": [
    "# Payment type flags"
   ]
  },
  {
   "cell_type": "code",
   "execution_count": 9,
   "id": "d6486b52",
   "metadata": {},
   "outputs": [],
   "source": [
    "orders['paid_by_card'] = orders['payment_id'].apply(lambda x: 1 if x == 6 else 0)\n",
    "orders['paid_by_cash_and_canceled'] = orders.apply(lambda row: 1 if row['payment_id'] == 8 and row['is_canceled'] == 1 else 0, axis=1)"
   ]
  },
  {
   "cell_type": "markdown",
   "id": "284dd85c",
   "metadata": {},
   "source": [
    "# Aggregating data"
   ]
  },
  {
   "cell_type": "code",
   "execution_count": 10,
   "id": "98b468d0",
   "metadata": {},
   "outputs": [],
   "source": [
    "canceled_orders = orders.groupby('user_id')['is_canceled'].sum().reset_index()\n",
    "customer_related_cancellations = orders.groupby('user_id')['customer_related_cancellation'].sum().reset_index()\n",
    "order_counts = orders.groupby('user_id')['order_id'].count().reset_index()\n",
    "total_order_value = orders.groupby('user_id')['total_orden'].sum().reset_index()\n",
    "\n",
    "order_data = pd.merge(canceled_orders, order_counts, on='user_id')\n",
    "order_data = pd.merge(order_data, customer_related_cancellations, on='user_id')\n",
    "order_data = pd.merge(order_data, total_order_value, on='user_id')\n",
    "order_data = pd.merge(order_data, orders.groupby('user_id')['paid_by_card'].sum().reset_index(), on='user_id')\n",
    "order_data = pd.merge(order_data, orders.groupby('user_id')['paid_by_cash_and_canceled'].sum().reset_index(), on='user_id')\n",
    "\n",
    "order_data['cancel_rate'] = order_data['is_canceled'] / order_data['order_id']"
   ]
  },
  {
   "cell_type": "markdown",
   "id": "641ae6c1",
   "metadata": {},
   "source": [
    "# Merge with user data"
   ]
  },
  {
   "cell_type": "code",
   "execution_count": 11,
   "id": "d6a99ada",
   "metadata": {},
   "outputs": [
    {
     "name": "stdout",
     "output_type": "stream",
     "text": [
      "   id  score  user_id_x  is_canceled  order_id  customer_related_cancellation  \\\n",
      "0   1    5.0        1.0        508.0     646.0                            2.0   \n",
      "1  28    5.0       28.0          0.0      27.0                            0.0   \n",
      "2  29    5.0       29.0          0.0       1.0                            0.0   \n",
      "3  30    5.0        NaN          NaN       NaN                            NaN   \n",
      "4  31    5.0        NaN          NaN       NaN                            NaN   \n",
      "\n",
      "   total_orden  paid_by_card  paid_by_cash_and_canceled  cancel_rate  \\\n",
      "0     11442.23         124.0                      356.0     0.786378   \n",
      "1       218.38           5.0                        0.0     0.000000   \n",
      "2         0.00           1.0                        0.0     0.000000   \n",
      "3          NaN           NaN                        NaN          NaN   \n",
      "4          NaN           NaN                        NaN          NaN   \n",
      "\n",
      "   user_id_y  cart_count  user_id  product_count  \n",
      "0        1.0         4.0      1.0         1199.0  \n",
      "1        NaN         NaN     28.0           32.0  \n",
      "2        NaN         NaN     29.0            1.0  \n",
      "3        NaN         NaN      NaN            NaN  \n",
      "4        NaN         NaN      NaN            NaN  \n"
     ]
    }
   ],
   "source": [
    "data = pd.merge(users, order_data, left_on='id', right_on='user_id', how='left')\n",
    "data = pd.merge(data, carts.groupby('user_id').size().reset_index(name='cart_count'), left_on='id', right_on='user_id', how='left')\n",
    "data = pd.merge(data, order_items, left_on='id', right_on='user_id', how='left')\n",
    "print(data.head())"
   ]
  },
  {
   "cell_type": "markdown",
   "id": "89ab6da0",
   "metadata": {},
   "source": [
    "# Fill missing values for users without orders or carts"
   ]
  },
  {
   "cell_type": "code",
   "execution_count": 12,
   "id": "774d5bf2",
   "metadata": {},
   "outputs": [],
   "source": [
    "data['cancel_rate'].fillna(0, inplace=True)\n",
    "data['cart_count'].fillna(0, inplace=True)\n",
    "data['customer_related_cancellation'].fillna(0, inplace=True)\n",
    "data['total_orden'].fillna(0, inplace=True)\n",
    "data['paid_by_card'].fillna(0, inplace=True)\n",
    "data['paid_by_cash_and_canceled'].fillna(0, inplace=True)\n",
    "data['product_count'].fillna(0, inplace=True)"
   ]
  },
  {
   "cell_type": "markdown",
   "id": "668e68fd",
   "metadata": {},
   "source": [
    "# Define features and target"
   ]
  },
  {
   "cell_type": "code",
   "execution_count": 13,
   "id": "3c7baa59",
   "metadata": {},
   "outputs": [],
   "source": [
    "features = ['cancel_rate', 'cart_count', 'customer_related_cancellation', 'total_orden', 'paid_by_card', 'paid_by_cash_and_canceled', 'product_count']\n",
    "target = 'score'"
   ]
  },
  {
   "cell_type": "markdown",
   "id": "3b074102",
   "metadata": {},
   "source": [
    "# Prepare data for training"
   ]
  },
  {
   "cell_type": "code",
   "execution_count": 14,
   "id": "c8c5d7ca",
   "metadata": {},
   "outputs": [],
   "source": [
    "X = data[features]\n",
    "y = data[target]"
   ]
  },
  {
   "cell_type": "markdown",
   "id": "b006f74d",
   "metadata": {},
   "source": [
    "# Normalize the features"
   ]
  },
  {
   "cell_type": "code",
   "execution_count": 15,
   "id": "a95292cf",
   "metadata": {},
   "outputs": [],
   "source": [
    "scaler = StandardScaler()\n",
    "X_scaled = scaler.fit_transform(X)"
   ]
  },
  {
   "cell_type": "markdown",
   "id": "09c00d2a",
   "metadata": {},
   "source": [
    "# Split data into training and testing sets"
   ]
  },
  {
   "cell_type": "code",
   "execution_count": 16,
   "id": "1a37e20d",
   "metadata": {},
   "outputs": [],
   "source": [
    "X_train, X_test, y_train, y_test = train_test_split(X, y, test_size=0.2, random_state=42)"
   ]
  },
  {
   "cell_type": "markdown",
   "id": "7d154d7d",
   "metadata": {},
   "source": [
    "# Build and train Gradient Boosting Machines model"
   ]
  },
  {
   "cell_type": "code",
   "execution_count": 17,
   "id": "60223ee3",
   "metadata": {},
   "outputs": [
    {
     "data": {
      "text/plain": [
       "GradientBoostingRegressor(random_state=42)"
      ]
     },
     "execution_count": 17,
     "metadata": {},
     "output_type": "execute_result"
    }
   ],
   "source": [
    "gbm = GradientBoostingRegressor(n_estimators=100, learning_rate=0.1, max_depth=3, random_state=42)\n",
    "gbm.fit(X_train, y_train)"
   ]
  },
  {
   "cell_type": "markdown",
   "id": "3cade13e",
   "metadata": {},
   "source": [
    "# Predict and evaluate"
   ]
  },
  {
   "cell_type": "code",
   "execution_count": 18,
   "id": "591f1eab",
   "metadata": {},
   "outputs": [
    {
     "name": "stdout",
     "output_type": "stream",
     "text": [
      "Mean Absolute Error: 0.0180222709767356\n"
     ]
    }
   ],
   "source": [
    "predictions = gbm.predict(X_test)\n",
    "mae = mean_absolute_error(y_test, predictions)\n",
    "print(f'Mean Absolute Error: {mae}')"
   ]
  },
  {
   "cell_type": "markdown",
   "id": "1c6ac791",
   "metadata": {},
   "source": [
    "# Predict and update user scores"
   ]
  },
  {
   "cell_type": "code",
   "execution_count": 19,
   "id": "c9d38ecc",
   "metadata": {},
   "outputs": [],
   "source": [
    "data['predicted_score'] = gbm.predict(X)"
   ]
  },
  {
   "cell_type": "markdown",
   "id": "e6b376e6",
   "metadata": {},
   "source": [
    "# Guardar score y user_id en un archivo CSV"
   ]
  },
  {
   "cell_type": "code",
   "execution_count": 20,
   "id": "2be99f78",
   "metadata": {},
   "outputs": [
    {
     "name": "stdout",
     "output_type": "stream",
     "text": [
      "Data saved to user_scores_with_features.csv\n"
     ]
    }
   ],
   "source": [
    "csv_filename = 'user_scores_with_features.csv'\n",
    "data.to_csv(csv_filename, index=False)\n",
    "print(f\"Data saved to {csv_filename}\")"
   ]
  }
 ],
 "metadata": {
  "kernelspec": {
   "display_name": "Python 3 (ipykernel)",
   "language": "python",
   "name": "python3"
  },
  "language_info": {
   "codemirror_mode": {
    "name": "ipython",
    "version": 3
   },
   "file_extension": ".py",
   "mimetype": "text/x-python",
   "name": "python",
   "nbconvert_exporter": "python",
   "pygments_lexer": "ipython3",
   "version": "3.7.9"
  }
 },
 "nbformat": 4,
 "nbformat_minor": 5
}

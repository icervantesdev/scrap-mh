{
 "cells": [
  {
   "cell_type": "code",
   "execution_count": 1,
   "id": "3c4adc65",
   "metadata": {},
   "outputs": [],
   "source": [
    "import pandas as pd\n",
    "from nltk.sentiment.vader import SentimentIntensityAnalyzer\n",
    "import nltk"
   ]
  },
  {
   "cell_type": "code",
   "execution_count": 2,
   "id": "894409c2",
   "metadata": {},
   "outputs": [
    {
     "name": "stderr",
     "output_type": "stream",
     "text": [
      "[nltk_data] Downloading package vader_lexicon to\n",
      "[nltk_data]     C:\\Users\\ivanc\\AppData\\Roaming\\nltk_data...\n",
      "[nltk_data]   Package vader_lexicon is already up-to-date!\n"
     ]
    },
    {
     "data": {
      "text/plain": [
       "True"
      ]
     },
     "execution_count": 2,
     "metadata": {},
     "output_type": "execute_result"
    }
   ],
   "source": [
    "nltk.download('vader_lexicon')\n"
   ]
  },
  {
   "cell_type": "code",
   "execution_count": 3,
   "id": "b4b23f5d",
   "metadata": {},
   "outputs": [],
   "source": [
    "def sentiment_score(text):\n",
    "    if pd.isnull(text):  # Verifica si el texto es nulo\n",
    "        return 'Neutral', 0.0  # Devuelve 'Neutral' y puntaje 0.0 para valores nulos\n",
    "    \n",
    "    sid = SentimentIntensityAnalyzer()\n",
    "    scores = sid.polarity_scores(text)\n",
    "    compound_score = scores['compound']\n",
    "    \n",
    "    if compound_score >= 0.05:\n",
    "        return 'Positive', compound_score\n",
    "    elif compound_score <= -0.05:\n",
    "        return 'Negative', compound_score\n",
    "    else:\n",
    "        return 'Neutral', compound_score\n"
   ]
  },
  {
   "cell_type": "code",
   "execution_count": 4,
   "id": "86e89564",
   "metadata": {},
   "outputs": [
    {
     "name": "stderr",
     "output_type": "stream",
     "text": [
      "C:\\Users\\ivanc\\AppData\\Local\\Packages\\PythonSoftwareFoundation.Python.3.7_qbz5n2kfra8p0\\LocalCache\\local-packages\\Python37\\site-packages\\IPython\\core\\interactiveshell.py:3553: FutureWarning: The error_bad_lines argument has been deprecated and will be removed in a future version.\n",
      "\n",
      "\n",
      "  exec(code_obj, self.user_global_ns, self.user_ns)\n",
      "b'Skipping line 26: expected 13 fields, saw 14\\n'\n"
     ]
    }
   ],
   "source": [
    "file_path = 'D:/laragon/www/jupyter/top_sub_cat.csv'  # Reemplaza con la ruta a tu archivo CSV\n",
    "df = pd.read_csv(file_path, error_bad_lines=False)"
   ]
  },
  {
   "cell_type": "code",
   "execution_count": 5,
   "id": "ff0a446f",
   "metadata": {},
   "outputs": [
    {
     "name": "stdout",
     "output_type": "stream",
     "text": [
      "   id   q1   q2   q3   q4                                            commets  \\\n",
      "0   4  5.0  5.0  5.0  5.0   Excelente servicio y satisfecho con mi producto!   \n",
      "1   5  5.0  5.0  5.0  5.0  Excelente servicio y satisfecho con el product...   \n",
      "2  23  5.0  5.0  5.0  5.0  Excelente productos, compre 2 mochilas y todo ...   \n",
      "3  24  0.5  0.5  0.5  0.5           Lo pedi hace dias y no me lo han enviado   \n",
      "4  29  3.5  3.0  1.5  5.0        La blusa estaba sucia y manchada las axilas   \n",
      "\n",
      "   score  state  user_id  seller_id  order_id           updated_at  \\\n",
      "0   5.00      1     2721       9796     17891  2024-01-25 18:09:43   \n",
      "1   5.00      1     2721      50267     16008  2024-01-25 18:11:24   \n",
      "2   5.00      1        1      24774     18099  2024-01-31 16:48:07   \n",
      "3   0.50      1    13579      52948     17884  2024-02-01 08:32:35   \n",
      "4   2.67      1    15329      50405     16251  2024-02-04 20:47:11   \n",
      "\n",
      "            created_at  \n",
      "0  2024-01-25 18:09:13  \n",
      "1  2024-01-25 18:10:42  \n",
      "2  2024-01-31 16:47:18  \n",
      "3  2024-02-01 08:32:09  \n",
      "4  2024-02-04 20:46:29  \n"
     ]
    }
   ],
   "source": [
    "print(df.head())\n"
   ]
  },
  {
   "cell_type": "code",
   "execution_count": 6,
   "id": "30713e0c",
   "metadata": {},
   "outputs": [],
   "source": [
    "comments_column = 'commets'  # Reemplaza 'commets' con el nombre real de tu columna de comentarios\n",
    "df['sentiment_label'], df['sentiment_score'] = zip(*df[comments_column].apply(sentiment_score))\n"
   ]
  },
  {
   "cell_type": "code",
   "execution_count": 7,
   "id": "a2ecf460",
   "metadata": {},
   "outputs": [],
   "source": [
    "output_file_path = 'analisis_sentimientos.csv'  # Reemplaza con la ruta donde quieres guardar el nuevo CSV\n",
    "df.to_csv(output_file_path, index=False)"
   ]
  },
  {
   "cell_type": "code",
   "execution_count": 8,
   "id": "28470e37",
   "metadata": {},
   "outputs": [
    {
     "name": "stdout",
     "output_type": "stream",
     "text": [
      "   id   q1   q2   q3   q4                                            commets  \\\n",
      "0   4  5.0  5.0  5.0  5.0   Excelente servicio y satisfecho con mi producto!   \n",
      "1   5  5.0  5.0  5.0  5.0  Excelente servicio y satisfecho con el product...   \n",
      "2  23  5.0  5.0  5.0  5.0  Excelente productos, compre 2 mochilas y todo ...   \n",
      "3  24  0.5  0.5  0.5  0.5           Lo pedi hace dias y no me lo han enviado   \n",
      "4  29  3.5  3.0  1.5  5.0        La blusa estaba sucia y manchada las axilas   \n",
      "\n",
      "   score  state  user_id  seller_id  order_id           updated_at  \\\n",
      "0   5.00      1     2721       9796     17891  2024-01-25 18:09:43   \n",
      "1   5.00      1     2721      50267     16008  2024-01-25 18:11:24   \n",
      "2   5.00      1        1      24774     18099  2024-01-31 16:48:07   \n",
      "3   0.50      1    13579      52948     17884  2024-02-01 08:32:35   \n",
      "4   2.67      1    15329      50405     16251  2024-02-04 20:47:11   \n",
      "\n",
      "            created_at sentiment_label  sentiment_score  \n",
      "0  2024-01-25 18:09:13         Neutral            0.000  \n",
      "1  2024-01-25 18:10:42         Neutral            0.000  \n",
      "2  2024-01-31 16:47:18         Neutral            0.000  \n",
      "3  2024-02-01 08:32:09        Negative           -0.296  \n",
      "4  2024-02-04 20:46:29         Neutral            0.000  \n"
     ]
    }
   ],
   "source": [
    "print(df.head())\n"
   ]
  },
  {
   "cell_type": "code",
   "execution_count": null,
   "id": "8795eeb0",
   "metadata": {},
   "outputs": [],
   "source": []
  }
 ],
 "metadata": {
  "kernelspec": {
   "display_name": "Python 3 (ipykernel)",
   "language": "python",
   "name": "python3"
  },
  "language_info": {
   "codemirror_mode": {
    "name": "ipython",
    "version": 3
   },
   "file_extension": ".py",
   "mimetype": "text/x-python",
   "name": "python",
   "nbconvert_exporter": "python",
   "pygments_lexer": "ipython3",
   "version": "3.7.9"
  }
 },
 "nbformat": 4,
 "nbformat_minor": 5
}

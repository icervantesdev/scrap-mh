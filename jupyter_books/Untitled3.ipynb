{
 "cells": [
  {
   "cell_type": "code",
   "execution_count": 2,
   "id": "acf9e58f",
   "metadata": {},
   "outputs": [
    {
     "name": "stdout",
     "output_type": "stream",
     "text": [
      "Conexión exitosa\n",
      "   id sku  order_state_id   total  fee  total_envio  total_orden  saldo  pay  \\\n",
      "0  13                   3  115.76  0.0          0.0          0.0    0.0    0   \n",
      "1  27                   3   77.00  0.0          5.0          0.0    0.0    0   \n",
      "2  50                   3  117.00  0.0          5.0          0.0    0.0    0   \n",
      "3  58                   3   18.00  0.0          3.0          0.0    0.0    0   \n",
      "4  59                   3   99.90  0.0          5.0          0.0    0.0    0   \n",
      "\n",
      "  pdf_envio  ...  refund_at how_send agency_address agency_address_id  \\\n",
      "0      None  ...       None     None           None              None   \n",
      "1      None  ...       None     None           None              None   \n",
      "2      None  ...       None     None           None              None   \n",
      "3      None  ...       None     None           None              None   \n",
      "4      None  ...       None     None           None              None   \n",
      "\n",
      "  seller_address  seller_address_id recolect_at          created_at  \\\n",
      "0           None               None        None 2021-05-01 00:41:23   \n",
      "1           None               None        None 2021-05-14 23:02:59   \n",
      "2           None               None        None 2021-06-11 01:20:06   \n",
      "3           None               None        None 2021-06-12 03:49:26   \n",
      "4           None               None        None 2021-06-27 22:22:59   \n",
      "\n",
      "           updated_at deleted_at  \n",
      "0 2021-10-05 03:34:44       None  \n",
      "1 2021-10-05 21:01:27       None  \n",
      "2 2021-10-05 03:34:55       None  \n",
      "3 2021-10-05 21:01:37       None  \n",
      "4 2021-10-05 21:01:31       None  \n",
      "\n",
      "[5 rows x 34 columns]\n"
     ]
    }
   ],
   "source": [
    "import mysql.connector\n",
    "import pandas as pd\n",
    "import os\n",
    "from dotenv import load_dotenv\n",
    "\n",
    "# Cargar las variables de entorno desde el archivo .env\n",
    "load_dotenv()\n",
    "\n",
    "# Obtener las variables de entorno\n",
    "db_host = os.getenv('DB_HOST')\n",
    "db_user = os.getenv('DB_USER')\n",
    "db_password = os.getenv('DB_PASSWORD')\n",
    "db_name = os.getenv('DB_NAME')\n",
    "\n",
    "# Establecer la conexión con la base de datos\n",
    "conn = mysql.connector.connect(\n",
    "    host=db_host,\n",
    "    user=db_user,\n",
    "    password=db_password,\n",
    "    database=db_name\n",
    ")\n",
    "\n",
    "# Crear un cursor para ejecutar consultas\n",
    "cursor = conn.cursor()\n",
    "\n",
    "# Consulta para probar la conexión\n",
    "try:\n",
    "    cursor.execute('SELECT 1')\n",
    "    result = cursor.fetchone()\n",
    "    if result:\n",
    "        print(\"Conexión exitosa\")\n",
    "except mysql.connector.Error as err:\n",
    "    print(f\"Error de conexión: {err}\")\n",
    "\n",
    "# Ejemplo de consulta y carga de datos en un DataFrame\n",
    "try:\n",
    "    query = \"SELECT * FROM orders LIMIT 5\"  # Ajusta la consulta según tus necesidades\n",
    "    df = pd.read_sql(query, conn)\n",
    "    print(df.head())  # Mostrar las primeras filas del DataFrame\n",
    "except mysql.connector.Error as err:\n",
    "    print(f\"Error al consultar la base de datos: {err}\")\n",
    "\n",
    "# Cerrar el cursor y la conexión\n",
    "cursor.close()\n",
    "conn.close()\n"
   ]
  },
  {
   "cell_type": "code",
   "execution_count": null,
   "id": "681eedc0",
   "metadata": {},
   "outputs": [],
   "source": []
  }
 ],
 "metadata": {
  "kernelspec": {
   "display_name": "Python 3 (ipykernel)",
   "language": "python",
   "name": "python3"
  },
  "language_info": {
   "codemirror_mode": {
    "name": "ipython",
    "version": 3
   },
   "file_extension": ".py",
   "mimetype": "text/x-python",
   "name": "python",
   "nbconvert_exporter": "python",
   "pygments_lexer": "ipython3",
   "version": "3.7.9"
  }
 },
 "nbformat": 4,
 "nbformat_minor": 5
}

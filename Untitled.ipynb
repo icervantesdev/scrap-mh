{
 "cells": [
  {
   "cell_type": "code",
   "execution_count": 1,
   "id": "659b5f41",
   "metadata": {},
   "outputs": [],
   "source": [
    "import os\n",
    "from moviepy.editor import VideoFileClip"
   ]
  },
  {
   "cell_type": "code",
   "execution_count": 2,
   "id": "05d0b5ce",
   "metadata": {},
   "outputs": [],
   "source": [
    "# Directorio con los videos\n",
    "input_dir = \"D:/User/Desktop/kate\"\n",
    "output_dir = \"D:/User/Desktop/kate/output\""
   ]
  },
  {
   "cell_type": "code",
   "execution_count": 3,
   "id": "c992f77f",
   "metadata": {},
   "outputs": [],
   "source": [
    "# Crear el directorio de salida si no existe\n",
    "os.makedirs(output_dir, exist_ok=True)"
   ]
  },
  {
   "cell_type": "code",
   "execution_count": 4,
   "id": "7f17849c",
   "metadata": {},
   "outputs": [
    {
     "name": "stdout",
     "output_type": "stream",
     "text": [
      "Moviepy - Building video D:/User/Desktop/kate/output\\20240614_154003.mp4.\n",
      "MoviePy - Writing audio in 20240614_154003TEMP_MPY_wvf_snd.mp3\n"
     ]
    },
    {
     "name": "stderr",
     "output_type": "stream",
     "text": [
      "                                                                                                                       \r"
     ]
    },
    {
     "name": "stdout",
     "output_type": "stream",
     "text": [
      "MoviePy - Done.\n",
      "Moviepy - Writing video D:/User/Desktop/kate/output\\20240614_154003.mp4\n",
      "\n"
     ]
    },
    {
     "name": "stderr",
     "output_type": "stream",
     "text": [
      "                                                                                                                       \r"
     ]
    },
    {
     "name": "stdout",
     "output_type": "stream",
     "text": [
      "Moviepy - Done !\n",
      "Moviepy - video ready D:/User/Desktop/kate/output\\20240614_154003.mp4\n"
     ]
    }
   ],
   "source": [
    "for filename in os.listdir(input_dir):\n",
    "    if filename.endswith(\".mp4\"):\n",
    "        input_path = os.path.join(input_dir, filename)\n",
    "        output_path = os.path.join(output_dir, filename)\n",
    "\n",
    "        # Cargar el video\n",
    "        clip = VideoFileClip(input_path)\n",
    "\n",
    "        # Redimensionar el video manteniendo la relación de aspecto\n",
    "        resized_clip = clip.resize(width=1920, height=1000)\n",
    "\n",
    "        # Guardar el video redimensionado\n",
    "        resized_clip.write_videofile(output_path, codec='libx264')"
   ]
  },
  {
   "cell_type": "code",
   "execution_count": 5,
   "id": "0c5de579",
   "metadata": {},
   "outputs": [
    {
     "name": "stdout",
     "output_type": "stream",
     "text": [
      "Todos los videos han sido procesados y guardados en el directorio de salida.\n"
     ]
    }
   ],
   "source": [
    "print(\"Todos los videos han sido procesados y guardados en el directorio de salida.\")"
   ]
  }
 ],
 "metadata": {
  "kernelspec": {
   "display_name": "Python 3 (ipykernel)",
   "language": "python",
   "name": "python3"
  },
  "language_info": {
   "codemirror_mode": {
    "name": "ipython",
    "version": 3
   },
   "file_extension": ".py",
   "mimetype": "text/x-python",
   "name": "python",
   "nbconvert_exporter": "python",
   "pygments_lexer": "ipython3",
   "version": "3.7.9"
  }
 },
 "nbformat": 4,
 "nbformat_minor": 5
}
